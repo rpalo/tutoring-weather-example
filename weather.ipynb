{
 "cells": [
  {
   "cell_type": "markdown",
   "metadata": {},
   "source": [
    "# What's the Weather Like?\n",
    "\n",
    " 1. Showcase Temperature (F) vs. Latitude (deg)\n",
    " 2. Showcase Humidity (% H20) vs. Latitude (deg)\n",
    " 3. Showcase Cloudiness (% coverage) vs. Latitude (deg)\n",
    " 4. Showcase Wind Speed (mph) vs. Latitude (deg)\n",
    " \n",
    "These plots are based on 500 unique cities, randomly selected.  Compete city API log in [city.log](./city_log.txt).  Full data in [weather.csv](./weather.csv).\n",
    "\n",
    "Plotted using Matplotlib and Seaborn.  Uses [citypy](https://github.com/wingchen/citipy) for ease of selecting cities."
   ]
  },
  {
   "cell_type": "code",
   "execution_count": 21,
   "metadata": {},
   "outputs": [],
   "source": [
    "from citipy import citipy\n",
    "from matplotlib import pyplot as plt\n",
    "\n",
    "import numpy as np\n",
    "import pandas as pd\n",
    "import requests\n",
    "import seaborn as srn\n",
    "\n",
    "import json\n",
    "import logging\n",
    "import time\n",
    "\n",
    "srn.set()"
   ]
  },
  {
   "cell_type": "code",
   "execution_count": 17,
   "metadata": {},
   "outputs": [],
   "source": [
    "logger = logging.getLogger('API calls')\n",
    "logger.setLevel(logging.INFO)\n",
    "fh = logging.FileHandler('city.log')\n",
    "fh.setLevel(logging.INFO)\n",
    "ch = logging.StreamHandler()\n",
    "ch.setLevel(logging.ERROR)\n",
    "logger.addHandler(fh)\n",
    "logger.addHandler(ch)"
   ]
  },
  {
   "cell_type": "code",
   "execution_count": 4,
   "metadata": {},
   "outputs": [
    {
     "data": {
      "text/html": [
       "<div>\n",
       "<style>\n",
       "    .dataframe thead tr:only-child th {\n",
       "        text-align: right;\n",
       "    }\n",
       "\n",
       "    .dataframe thead th {\n",
       "        text-align: left;\n",
       "    }\n",
       "\n",
       "    .dataframe tbody tr th {\n",
       "        vertical-align: top;\n",
       "    }\n",
       "</style>\n",
       "<table border=\"1\" class=\"dataframe\">\n",
       "  <thead>\n",
       "    <tr style=\"text-align: right;\">\n",
       "      <th></th>\n",
       "      <th>latitude</th>\n",
       "      <th>longitude</th>\n",
       "    </tr>\n",
       "  </thead>\n",
       "  <tbody>\n",
       "    <tr>\n",
       "      <th>0</th>\n",
       "      <td>76</td>\n",
       "      <td>169</td>\n",
       "    </tr>\n",
       "    <tr>\n",
       "      <th>1</th>\n",
       "      <td>12</td>\n",
       "      <td>86</td>\n",
       "    </tr>\n",
       "    <tr>\n",
       "      <th>2</th>\n",
       "      <td>31</td>\n",
       "      <td>175</td>\n",
       "    </tr>\n",
       "    <tr>\n",
       "      <th>3</th>\n",
       "      <td>-6</td>\n",
       "      <td>-129</td>\n",
       "    </tr>\n",
       "    <tr>\n",
       "      <th>4</th>\n",
       "      <td>8</td>\n",
       "      <td>-70</td>\n",
       "    </tr>\n",
       "  </tbody>\n",
       "</table>\n",
       "</div>"
      ],
      "text/plain": [
       "   latitude  longitude\n",
       "0        76        169\n",
       "1        12         86\n",
       "2        31        175\n",
       "3        -6       -129\n",
       "4         8        -70"
      ]
     },
     "execution_count": 4,
     "metadata": {},
     "output_type": "execute_result"
    }
   ],
   "source": [
    "lats = np.random.randint(-90, 90, size=500)\n",
    "longs = np.random.randint(-180, 180, size=500)\n",
    "coords = pd.DataFrame({\"latitude\": lats, \"longitude\": longs})\n",
    "coords.head()"
   ]
  },
  {
   "cell_type": "code",
   "execution_count": 18,
   "metadata": {},
   "outputs": [],
   "source": [
    "from secrets import API_KEY\n",
    "def get_weather_data(coords, time_between=1):\n",
    "    \"\"\"Hits OpenWeatherMap API to get weather data for coordinates.\n",
    "    Coords is a dataframe of 2 columns: Latitude and Longitude.\n",
    "    Returns a list of json responses.\n",
    "    \"\"\"\n",
    "    results = []\n",
    "    for ind, row in coords.iterrows():\n",
    "        query = f\"http://api.openweathermap.org/data/2.5/weather?lat={row['latitude']}&lon={row['longitude']}&APPID={API_KEY}\"\n",
    "        city = citipy.nearest_city(row['latitude'], row['longitude'])\n",
    "        logger.info(f\"Call {ind}: {city.city_name} ({query})\")\n",
    "        result = requests.get(query)\n",
    "        results.append(result.json())\n",
    "        time.sleep(time_between)\n",
    "    return results\n"
   ]
  },
  {
   "cell_type": "code",
   "execution_count": 13,
   "metadata": {},
   "outputs": [
    {
     "data": {
      "text/plain": [
       "[{'base': 'stations',\n",
       "  'clouds': {'all': 1},\n",
       "  'cod': 200,\n",
       "  'coord': {'lat': 37, 'lon': -122},\n",
       "  'dt': 1522184280,\n",
       "  'id': 5381421,\n",
       "  'main': {'humidity': 45,\n",
       "   'pressure': 1023,\n",
       "   'temp': 293.87,\n",
       "   'temp_max': 295.15,\n",
       "   'temp_min': 291.15},\n",
       "  'name': 'Pasatiempo',\n",
       "  'sys': {'country': 'US',\n",
       "   'id': 512,\n",
       "   'message': 0.164,\n",
       "   'sunrise': 1522159177,\n",
       "   'sunset': 1522204017,\n",
       "   'type': 1},\n",
       "  'visibility': 16093,\n",
       "  'weather': [{'description': 'clear sky',\n",
       "    'icon': '01d',\n",
       "    'id': 800,\n",
       "    'main': 'Clear'}],\n",
       "  'wind': {'deg': 200, 'speed': 3.6}}]"
      ]
     },
     "execution_count": 13,
     "metadata": {},
     "output_type": "execute_result"
    }
   ],
   "source": [
    "test = pd.DataFrame({\"latitude\": [37], \"longitude\": [-122]})\n",
    "test_results = get_weather_data(test)\n",
    "test_results"
   ]
  },
  {
   "cell_type": "code",
   "execution_count": 22,
   "metadata": {},
   "outputs": [
    {
     "data": {
      "text/plain": [
       "[{'base': 'stations',\n",
       "  'clouds': {'all': 36},\n",
       "  'cod': 200,\n",
       "  'coord': {'lat': 76, 'lon': 169},\n",
       "  'dt': 1522188523,\n",
       "  'id': 0,\n",
       "  'main': {'grnd_level': 1025.9,\n",
       "   'humidity': 88,\n",
       "   'pressure': 1025.9,\n",
       "   'sea_level': 1025.86,\n",
       "   'temp': 251.87,\n",
       "   'temp_max': 251.87,\n",
       "   'temp_min': 251.87},\n",
       "  'name': '',\n",
       "  'sys': {'message': 0.0049, 'sunrise': 1522086642, 'sunset': 1522137091},\n",
       "  'weather': [{'description': 'scattered clouds',\n",
       "    'icon': '03n',\n",
       "    'id': 802,\n",
       "    'main': 'Clouds'}],\n",
       "  'wind': {'deg': 299.501, 'speed': 1.32}},\n",
       " {'base': 'stations',\n",
       "  'clouds': {'all': 0},\n",
       "  'cod': 200,\n",
       "  'coord': {'lat': 12, 'lon': 86},\n",
       "  'dt': 1522188531,\n",
       "  'id': 0,\n",
       "  'main': {'grnd_level': 1023.87,\n",
       "   'humidity': 100,\n",
       "   'pressure': 1023.87,\n",
       "   'sea_level': 1023.88,\n",
       "   'temp': 301.095,\n",
       "   'temp_max': 301.095,\n",
       "   'temp_min': 301.095},\n",
       "  'name': '',\n",
       "  'sys': {'message': 0.1637, 'sunrise': 1522109722, 'sunset': 1522153624},\n",
       "  'weather': [{'description': 'clear sky',\n",
       "    'icon': '01n',\n",
       "    'id': 800,\n",
       "    'main': 'Clear'}],\n",
       "  'wind': {'deg': 171.001, 'speed': 1.97}},\n",
       " {'base': 'stations',\n",
       "  'clouds': {'all': 36},\n",
       "  'cod': 200,\n",
       "  'coord': {'lat': 31, 'lon': 175},\n",
       "  'dt': 1522188526,\n",
       "  'id': 0,\n",
       "  'main': {'grnd_level': 1023.87,\n",
       "   'humidity': 100,\n",
       "   'pressure': 1023.87,\n",
       "   'sea_level': 1023.88,\n",
       "   'temp': 290.695,\n",
       "   'temp_max': 290.695,\n",
       "   'temp_min': 290.695},\n",
       "  'name': '',\n",
       "  'sys': {'message': 0.003, 'sunrise': 1522088086, 'sunset': 1522132569},\n",
       "  'weather': [{'description': 'scattered clouds',\n",
       "    'icon': '03n',\n",
       "    'id': 802,\n",
       "    'main': 'Clouds'}],\n",
       "  'wind': {'deg': 273.501, 'speed': 12.37}}]"
      ]
     },
     "execution_count": 22,
     "metadata": {},
     "output_type": "execute_result"
    }
   ],
   "source": [
    "# Commenting out so I don't accidentally hit the API 500 more times.\n",
    "# full_results = get_weather_data(coords)\n",
    "# full_results[:3]"
   ]
  },
  {
   "cell_type": "code",
   "execution_count": 23,
   "metadata": {},
   "outputs": [],
   "source": [
    "# Save the data out in case the world blows up\n",
    "# Commenting out so I don't accidentally overwrite my data\n",
    "# with open(\"weather.json\", \"w\") as outfile:\n",
    "#     json.dump(full_results, outfile)\n"
   ]
  },
  {
   "cell_type": "code",
   "execution_count": null,
   "metadata": {},
   "outputs": [],
   "source": []
  }
 ],
 "metadata": {
  "kernelspec": {
   "display_name": "Python 3",
   "language": "python",
   "name": "python3"
  },
  "language_info": {
   "codemirror_mode": {
    "name": "ipython",
    "version": 3
   },
   "file_extension": ".py",
   "mimetype": "text/x-python",
   "name": "python",
   "nbconvert_exporter": "python",
   "pygments_lexer": "ipython3",
   "version": "3.6.1"
  }
 },
 "nbformat": 4,
 "nbformat_minor": 2
}
